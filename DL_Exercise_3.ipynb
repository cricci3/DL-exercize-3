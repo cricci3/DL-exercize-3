{
  "metadata": {
    "kernelspec": {
      "display_name": "Python 3",
      "name": "python3"
    },
    "language_info": {
      "name": "python",
      "version": "3.7.6",
      "mimetype": "text/x-python",
      "codemirror_mode": {
        "name": "ipython",
        "version": 3
      },
      "pygments_lexer": "ipython3",
      "nbconvert_exporter": "python",
      "file_extension": ".py"
    },
    "colab": {
      "provenance": []
    }
  },
  "nbformat_minor": 0,
  "nbformat": 4,
  "cells": [
    {
      "cell_type": "markdown",
      "source": [
        "# Task for Today  \n",
        "\n",
        "***\n",
        "\n",
        "## Legendary Pokémon Classification  \n",
        "\n",
        "Use a FeedForward Neural Network to predict if a given Pokémon is **legendary** or not, based on *Pokémon features*.\n",
        "\n",
        "\n",
        "<img src=\"https://wallpapers.com/images/hd/legendary-pokemon-pictures-7yo7x0f1l2b2tu0r.jpg\" width=\"800\" height=\"500\" alt=\"legendaries\">\n",
        "\n",
        "Data available at: https://github.com/Vaeliss/Pokemon_challenge/blob/main/pokemon.csv\n",
        "\n",
        "Download the `pokemon.csv` file and put it in the file section of Colab."
      ],
      "metadata": {
        "id": "ZzbFUbueF-1I"
      }
    },
    {
      "cell_type": "markdown",
      "source": [
        "# Challenge\n",
        "\n",
        "TAs want to battle!\n",
        "\n",
        "<img src=\"https://pokemongohub.net/wp-content/uploads/2023/06/grunts-1.jpg\" width=\"400\" height=\"300\" alt=\"TAs\">\n",
        "\n",
        "Rules of the challenge:\n",
        "\n",
        "- Gotta catch 'em all! ...But give priority to the legendaries.\n",
        "- F1-score is usually the measure of choice for imbalanced datasets; however in this case we particularly want to avoid not \"catching\" legendaries. They're so rare, you might not have any more chances to catch 'em if they flee...\n",
        "- In ML terms, we give recall more importance than precision for the task (check the whiteboard if you don't know their meaning).\n",
        "- F2-score (i.e., [F-$\\beta$-score](https://scikit-learn.org/stable/modules/generated/sklearn.metrics.fbeta_score.html) with $\\beta = 2$) is hence used as the main evaluation metric for your model.\n",
        "\n",
        "if B > 1 recall over precision\n",
        "else B < 1 precisione over recall\n",
        "\n",
        "- **TAs achieved a F2-score of 0.80. Can you beat them?!**"
      ],
      "metadata": {
        "id": "xq0moBocV6gU"
      }
    },
    {
      "cell_type": "markdown",
      "source": [
        "# Imports and dataset"
      ],
      "metadata": {
        "id": "4u8Vl29CF-1J"
      }
    },
    {
      "cell_type": "code",
      "source": [
        "import numpy as np\n",
        "import pandas as pd\n",
        "import matplotlib.pyplot as plt\n",
        "\n",
        "from sklearn.preprocessing import LabelEncoder, StandardScaler\n",
        "from sklearn.model_selection import train_test_split\n",
        "\n",
        "import torch\n",
        "from torch import nn\n",
        "import torch.optim as optim"
      ],
      "metadata": {
        "_uuid": "d629ff2d2480ee46fbb7e2d37f6b5fab8052498a",
        "_cell_guid": "79c7e3d0-c299-4dcb-8224-4455121ee9b0",
        "execution": {
          "iopub.status.busy": "2023-10-10T14:53:17.491233Z",
          "iopub.execute_input": "2023-10-10T14:53:17.491581Z",
          "iopub.status.idle": "2023-10-10T14:53:26.820229Z",
          "shell.execute_reply.started": "2023-10-10T14:53:17.491549Z",
          "shell.execute_reply": "2023-10-10T14:53:26.818905Z"
        },
        "trusted": true,
        "id": "DQ8jq20NF-1K"
      },
      "execution_count": null,
      "outputs": []
    },
    {
      "cell_type": "code",
      "source": [
        "_ = torch.manual_seed(42) # for a fair comparison, don't change the seed!"
      ],
      "metadata": {
        "id": "kYbH9SzNrbeP"
      },
      "execution_count": null,
      "outputs": []
    },
    {
      "cell_type": "code",
      "source": [
        "data = pd.read_csv('pokemon.csv')"
      ],
      "metadata": {
        "execution": {
          "iopub.status.busy": "2023-10-09T10:03:59.333013Z",
          "iopub.execute_input": "2023-10-09T10:03:59.333403Z",
          "iopub.status.idle": "2023-10-09T10:03:59.370972Z",
          "shell.execute_reply.started": "2023-10-09T10:03:59.333344Z",
          "shell.execute_reply": "2023-10-09T10:03:59.369989Z"
        },
        "trusted": true,
        "id": "OkMbLcx_F-1L"
      },
      "execution_count": null,
      "outputs": []
    },
    {
      "cell_type": "code",
      "source": [
        "data"
      ],
      "metadata": {
        "execution": {
          "iopub.status.busy": "2023-10-09T10:04:00.050779Z",
          "iopub.execute_input": "2023-10-09T10:04:00.051352Z",
          "iopub.status.idle": "2023-10-09T10:04:00.235069Z",
          "shell.execute_reply.started": "2023-10-09T10:04:00.051296Z",
          "shell.execute_reply": "2023-10-09T10:04:00.234085Z"
        },
        "trusted": true,
        "id": "1cIpYa1HF-1L",
        "colab": {
          "base_uri": "https://localhost:8080/",
          "height": 424
        },
        "outputId": "7de8e43f-447c-4225-90ea-54fa6f56bf02"
      },
      "execution_count": null,
      "outputs": [
        {
          "output_type": "execute_result",
          "data": {
            "text/plain": [
              "      dexnum          name  generation     type1    type2  height  weight  \\\n",
              "0       1025     Pecharunt           9    Poison    Ghost     0.3     0.3   \n",
              "1       1024     Terapagos           9    Normal      NaN     0.2     6.5   \n",
              "2       1023    Iron Crown           9     Steel  Psychic     1.6   156.0   \n",
              "3       1022  Iron Boulder           9      Rock  Psychic     1.5   162.5   \n",
              "4       1021   Raging Bolt           9  Electric   Dragon     5.2   480.0   \n",
              "...      ...           ...         ...       ...      ...     ...     ...   \n",
              "1020       5    Charmeleon           1      Fire      NaN     1.1    19.0   \n",
              "1021       4    Charmander           1      Fire      NaN     0.6     8.5   \n",
              "1022       3      Venusaur           1     Grass   Poison     2.0   100.0   \n",
              "1023       2       Ivysaur           1     Grass   Poison     1.0    13.0   \n",
              "1024       1     Bulbasaur           1     Grass   Poison     0.7     6.9   \n",
              "\n",
              "       hp  attack  defense  sp_atk  sp_def  speed  total  legendary  \n",
              "0      88      88      160      88      88     88    600          1  \n",
              "1      90      65       85      65      85     60    450          1  \n",
              "2      90      72      100     122     108     98    590          0  \n",
              "3      90     120       80      68     108    124    590          0  \n",
              "4     125      73       91     137      89     75    590          0  \n",
              "...   ...     ...      ...     ...     ...    ...    ...        ...  \n",
              "1020   58      64       58      80      65     80    405          0  \n",
              "1021   39      52       43      60      50     65    309          0  \n",
              "1022   80      82       83     100     100     80    525          0  \n",
              "1023   60      62       63      80      80     60    405          0  \n",
              "1024   45      49       49      65      65     45    318          0  \n",
              "\n",
              "[1025 rows x 15 columns]"
            ],
            "text/html": [
              "\n",
              "  <div id=\"df-276aac17-ce6e-4d07-9b27-a1dacc693161\" class=\"colab-df-container\">\n",
              "    <div>\n",
              "<style scoped>\n",
              "    .dataframe tbody tr th:only-of-type {\n",
              "        vertical-align: middle;\n",
              "    }\n",
              "\n",
              "    .dataframe tbody tr th {\n",
              "        vertical-align: top;\n",
              "    }\n",
              "\n",
              "    .dataframe thead th {\n",
              "        text-align: right;\n",
              "    }\n",
              "</style>\n",
              "<table border=\"1\" class=\"dataframe\">\n",
              "  <thead>\n",
              "    <tr style=\"text-align: right;\">\n",
              "      <th></th>\n",
              "      <th>dexnum</th>\n",
              "      <th>name</th>\n",
              "      <th>generation</th>\n",
              "      <th>type1</th>\n",
              "      <th>type2</th>\n",
              "      <th>height</th>\n",
              "      <th>weight</th>\n",
              "      <th>hp</th>\n",
              "      <th>attack</th>\n",
              "      <th>defense</th>\n",
              "      <th>sp_atk</th>\n",
              "      <th>sp_def</th>\n",
              "      <th>speed</th>\n",
              "      <th>total</th>\n",
              "      <th>legendary</th>\n",
              "    </tr>\n",
              "  </thead>\n",
              "  <tbody>\n",
              "    <tr>\n",
              "      <th>0</th>\n",
              "      <td>1025</td>\n",
              "      <td>Pecharunt</td>\n",
              "      <td>9</td>\n",
              "      <td>Poison</td>\n",
              "      <td>Ghost</td>\n",
              "      <td>0.3</td>\n",
              "      <td>0.3</td>\n",
              "      <td>88</td>\n",
              "      <td>88</td>\n",
              "      <td>160</td>\n",
              "      <td>88</td>\n",
              "      <td>88</td>\n",
              "      <td>88</td>\n",
              "      <td>600</td>\n",
              "      <td>1</td>\n",
              "    </tr>\n",
              "    <tr>\n",
              "      <th>1</th>\n",
              "      <td>1024</td>\n",
              "      <td>Terapagos</td>\n",
              "      <td>9</td>\n",
              "      <td>Normal</td>\n",
              "      <td>NaN</td>\n",
              "      <td>0.2</td>\n",
              "      <td>6.5</td>\n",
              "      <td>90</td>\n",
              "      <td>65</td>\n",
              "      <td>85</td>\n",
              "      <td>65</td>\n",
              "      <td>85</td>\n",
              "      <td>60</td>\n",
              "      <td>450</td>\n",
              "      <td>1</td>\n",
              "    </tr>\n",
              "    <tr>\n",
              "      <th>2</th>\n",
              "      <td>1023</td>\n",
              "      <td>Iron Crown</td>\n",
              "      <td>9</td>\n",
              "      <td>Steel</td>\n",
              "      <td>Psychic</td>\n",
              "      <td>1.6</td>\n",
              "      <td>156.0</td>\n",
              "      <td>90</td>\n",
              "      <td>72</td>\n",
              "      <td>100</td>\n",
              "      <td>122</td>\n",
              "      <td>108</td>\n",
              "      <td>98</td>\n",
              "      <td>590</td>\n",
              "      <td>0</td>\n",
              "    </tr>\n",
              "    <tr>\n",
              "      <th>3</th>\n",
              "      <td>1022</td>\n",
              "      <td>Iron Boulder</td>\n",
              "      <td>9</td>\n",
              "      <td>Rock</td>\n",
              "      <td>Psychic</td>\n",
              "      <td>1.5</td>\n",
              "      <td>162.5</td>\n",
              "      <td>90</td>\n",
              "      <td>120</td>\n",
              "      <td>80</td>\n",
              "      <td>68</td>\n",
              "      <td>108</td>\n",
              "      <td>124</td>\n",
              "      <td>590</td>\n",
              "      <td>0</td>\n",
              "    </tr>\n",
              "    <tr>\n",
              "      <th>4</th>\n",
              "      <td>1021</td>\n",
              "      <td>Raging Bolt</td>\n",
              "      <td>9</td>\n",
              "      <td>Electric</td>\n",
              "      <td>Dragon</td>\n",
              "      <td>5.2</td>\n",
              "      <td>480.0</td>\n",
              "      <td>125</td>\n",
              "      <td>73</td>\n",
              "      <td>91</td>\n",
              "      <td>137</td>\n",
              "      <td>89</td>\n",
              "      <td>75</td>\n",
              "      <td>590</td>\n",
              "      <td>0</td>\n",
              "    </tr>\n",
              "    <tr>\n",
              "      <th>...</th>\n",
              "      <td>...</td>\n",
              "      <td>...</td>\n",
              "      <td>...</td>\n",
              "      <td>...</td>\n",
              "      <td>...</td>\n",
              "      <td>...</td>\n",
              "      <td>...</td>\n",
              "      <td>...</td>\n",
              "      <td>...</td>\n",
              "      <td>...</td>\n",
              "      <td>...</td>\n",
              "      <td>...</td>\n",
              "      <td>...</td>\n",
              "      <td>...</td>\n",
              "      <td>...</td>\n",
              "    </tr>\n",
              "    <tr>\n",
              "      <th>1020</th>\n",
              "      <td>5</td>\n",
              "      <td>Charmeleon</td>\n",
              "      <td>1</td>\n",
              "      <td>Fire</td>\n",
              "      <td>NaN</td>\n",
              "      <td>1.1</td>\n",
              "      <td>19.0</td>\n",
              "      <td>58</td>\n",
              "      <td>64</td>\n",
              "      <td>58</td>\n",
              "      <td>80</td>\n",
              "      <td>65</td>\n",
              "      <td>80</td>\n",
              "      <td>405</td>\n",
              "      <td>0</td>\n",
              "    </tr>\n",
              "    <tr>\n",
              "      <th>1021</th>\n",
              "      <td>4</td>\n",
              "      <td>Charmander</td>\n",
              "      <td>1</td>\n",
              "      <td>Fire</td>\n",
              "      <td>NaN</td>\n",
              "      <td>0.6</td>\n",
              "      <td>8.5</td>\n",
              "      <td>39</td>\n",
              "      <td>52</td>\n",
              "      <td>43</td>\n",
              "      <td>60</td>\n",
              "      <td>50</td>\n",
              "      <td>65</td>\n",
              "      <td>309</td>\n",
              "      <td>0</td>\n",
              "    </tr>\n",
              "    <tr>\n",
              "      <th>1022</th>\n",
              "      <td>3</td>\n",
              "      <td>Venusaur</td>\n",
              "      <td>1</td>\n",
              "      <td>Grass</td>\n",
              "      <td>Poison</td>\n",
              "      <td>2.0</td>\n",
              "      <td>100.0</td>\n",
              "      <td>80</td>\n",
              "      <td>82</td>\n",
              "      <td>83</td>\n",
              "      <td>100</td>\n",
              "      <td>100</td>\n",
              "      <td>80</td>\n",
              "      <td>525</td>\n",
              "      <td>0</td>\n",
              "    </tr>\n",
              "    <tr>\n",
              "      <th>1023</th>\n",
              "      <td>2</td>\n",
              "      <td>Ivysaur</td>\n",
              "      <td>1</td>\n",
              "      <td>Grass</td>\n",
              "      <td>Poison</td>\n",
              "      <td>1.0</td>\n",
              "      <td>13.0</td>\n",
              "      <td>60</td>\n",
              "      <td>62</td>\n",
              "      <td>63</td>\n",
              "      <td>80</td>\n",
              "      <td>80</td>\n",
              "      <td>60</td>\n",
              "      <td>405</td>\n",
              "      <td>0</td>\n",
              "    </tr>\n",
              "    <tr>\n",
              "      <th>1024</th>\n",
              "      <td>1</td>\n",
              "      <td>Bulbasaur</td>\n",
              "      <td>1</td>\n",
              "      <td>Grass</td>\n",
              "      <td>Poison</td>\n",
              "      <td>0.7</td>\n",
              "      <td>6.9</td>\n",
              "      <td>45</td>\n",
              "      <td>49</td>\n",
              "      <td>49</td>\n",
              "      <td>65</td>\n",
              "      <td>65</td>\n",
              "      <td>45</td>\n",
              "      <td>318</td>\n",
              "      <td>0</td>\n",
              "    </tr>\n",
              "  </tbody>\n",
              "</table>\n",
              "<p>1025 rows × 15 columns</p>\n",
              "</div>\n",
              "    <div class=\"colab-df-buttons\">\n",
              "\n",
              "  <div class=\"colab-df-container\">\n",
              "    <button class=\"colab-df-convert\" onclick=\"convertToInteractive('df-276aac17-ce6e-4d07-9b27-a1dacc693161')\"\n",
              "            title=\"Convert this dataframe to an interactive table.\"\n",
              "            style=\"display:none;\">\n",
              "\n",
              "  <svg xmlns=\"http://www.w3.org/2000/svg\" height=\"24px\" viewBox=\"0 -960 960 960\">\n",
              "    <path d=\"M120-120v-720h720v720H120Zm60-500h600v-160H180v160Zm220 220h160v-160H400v160Zm0 220h160v-160H400v160ZM180-400h160v-160H180v160Zm440 0h160v-160H620v160ZM180-180h160v-160H180v160Zm440 0h160v-160H620v160Z\"/>\n",
              "  </svg>\n",
              "    </button>\n",
              "\n",
              "  <style>\n",
              "    .colab-df-container {\n",
              "      display:flex;\n",
              "      gap: 12px;\n",
              "    }\n",
              "\n",
              "    .colab-df-convert {\n",
              "      background-color: #E8F0FE;\n",
              "      border: none;\n",
              "      border-radius: 50%;\n",
              "      cursor: pointer;\n",
              "      display: none;\n",
              "      fill: #1967D2;\n",
              "      height: 32px;\n",
              "      padding: 0 0 0 0;\n",
              "      width: 32px;\n",
              "    }\n",
              "\n",
              "    .colab-df-convert:hover {\n",
              "      background-color: #E2EBFA;\n",
              "      box-shadow: 0px 1px 2px rgba(60, 64, 67, 0.3), 0px 1px 3px 1px rgba(60, 64, 67, 0.15);\n",
              "      fill: #174EA6;\n",
              "    }\n",
              "\n",
              "    .colab-df-buttons div {\n",
              "      margin-bottom: 4px;\n",
              "    }\n",
              "\n",
              "    [theme=dark] .colab-df-convert {\n",
              "      background-color: #3B4455;\n",
              "      fill: #D2E3FC;\n",
              "    }\n",
              "\n",
              "    [theme=dark] .colab-df-convert:hover {\n",
              "      background-color: #434B5C;\n",
              "      box-shadow: 0px 1px 3px 1px rgba(0, 0, 0, 0.15);\n",
              "      filter: drop-shadow(0px 1px 2px rgba(0, 0, 0, 0.3));\n",
              "      fill: #FFFFFF;\n",
              "    }\n",
              "  </style>\n",
              "\n",
              "    <script>\n",
              "      const buttonEl =\n",
              "        document.querySelector('#df-276aac17-ce6e-4d07-9b27-a1dacc693161 button.colab-df-convert');\n",
              "      buttonEl.style.display =\n",
              "        google.colab.kernel.accessAllowed ? 'block' : 'none';\n",
              "\n",
              "      async function convertToInteractive(key) {\n",
              "        const element = document.querySelector('#df-276aac17-ce6e-4d07-9b27-a1dacc693161');\n",
              "        const dataTable =\n",
              "          await google.colab.kernel.invokeFunction('convertToInteractive',\n",
              "                                                    [key], {});\n",
              "        if (!dataTable) return;\n",
              "\n",
              "        const docLinkHtml = 'Like what you see? Visit the ' +\n",
              "          '<a target=\"_blank\" href=https://colab.research.google.com/notebooks/data_table.ipynb>data table notebook</a>'\n",
              "          + ' to learn more about interactive tables.';\n",
              "        element.innerHTML = '';\n",
              "        dataTable['output_type'] = 'display_data';\n",
              "        await google.colab.output.renderOutput(dataTable, element);\n",
              "        const docLink = document.createElement('div');\n",
              "        docLink.innerHTML = docLinkHtml;\n",
              "        element.appendChild(docLink);\n",
              "      }\n",
              "    </script>\n",
              "  </div>\n",
              "\n",
              "\n",
              "<div id=\"df-a9b8cf38-c6ed-4c29-8431-b0191fa214e7\">\n",
              "  <button class=\"colab-df-quickchart\" onclick=\"quickchart('df-a9b8cf38-c6ed-4c29-8431-b0191fa214e7')\"\n",
              "            title=\"Suggest charts\"\n",
              "            style=\"display:none;\">\n",
              "\n",
              "<svg xmlns=\"http://www.w3.org/2000/svg\" height=\"24px\"viewBox=\"0 0 24 24\"\n",
              "     width=\"24px\">\n",
              "    <g>\n",
              "        <path d=\"M19 3H5c-1.1 0-2 .9-2 2v14c0 1.1.9 2 2 2h14c1.1 0 2-.9 2-2V5c0-1.1-.9-2-2-2zM9 17H7v-7h2v7zm4 0h-2V7h2v10zm4 0h-2v-4h2v4z\"/>\n",
              "    </g>\n",
              "</svg>\n",
              "  </button>\n",
              "\n",
              "<style>\n",
              "  .colab-df-quickchart {\n",
              "      --bg-color: #E8F0FE;\n",
              "      --fill-color: #1967D2;\n",
              "      --hover-bg-color: #E2EBFA;\n",
              "      --hover-fill-color: #174EA6;\n",
              "      --disabled-fill-color: #AAA;\n",
              "      --disabled-bg-color: #DDD;\n",
              "  }\n",
              "\n",
              "  [theme=dark] .colab-df-quickchart {\n",
              "      --bg-color: #3B4455;\n",
              "      --fill-color: #D2E3FC;\n",
              "      --hover-bg-color: #434B5C;\n",
              "      --hover-fill-color: #FFFFFF;\n",
              "      --disabled-bg-color: #3B4455;\n",
              "      --disabled-fill-color: #666;\n",
              "  }\n",
              "\n",
              "  .colab-df-quickchart {\n",
              "    background-color: var(--bg-color);\n",
              "    border: none;\n",
              "    border-radius: 50%;\n",
              "    cursor: pointer;\n",
              "    display: none;\n",
              "    fill: var(--fill-color);\n",
              "    height: 32px;\n",
              "    padding: 0;\n",
              "    width: 32px;\n",
              "  }\n",
              "\n",
              "  .colab-df-quickchart:hover {\n",
              "    background-color: var(--hover-bg-color);\n",
              "    box-shadow: 0 1px 2px rgba(60, 64, 67, 0.3), 0 1px 3px 1px rgba(60, 64, 67, 0.15);\n",
              "    fill: var(--button-hover-fill-color);\n",
              "  }\n",
              "\n",
              "  .colab-df-quickchart-complete:disabled,\n",
              "  .colab-df-quickchart-complete:disabled:hover {\n",
              "    background-color: var(--disabled-bg-color);\n",
              "    fill: var(--disabled-fill-color);\n",
              "    box-shadow: none;\n",
              "  }\n",
              "\n",
              "  .colab-df-spinner {\n",
              "    border: 2px solid var(--fill-color);\n",
              "    border-color: transparent;\n",
              "    border-bottom-color: var(--fill-color);\n",
              "    animation:\n",
              "      spin 1s steps(1) infinite;\n",
              "  }\n",
              "\n",
              "  @keyframes spin {\n",
              "    0% {\n",
              "      border-color: transparent;\n",
              "      border-bottom-color: var(--fill-color);\n",
              "      border-left-color: var(--fill-color);\n",
              "    }\n",
              "    20% {\n",
              "      border-color: transparent;\n",
              "      border-left-color: var(--fill-color);\n",
              "      border-top-color: var(--fill-color);\n",
              "    }\n",
              "    30% {\n",
              "      border-color: transparent;\n",
              "      border-left-color: var(--fill-color);\n",
              "      border-top-color: var(--fill-color);\n",
              "      border-right-color: var(--fill-color);\n",
              "    }\n",
              "    40% {\n",
              "      border-color: transparent;\n",
              "      border-right-color: var(--fill-color);\n",
              "      border-top-color: var(--fill-color);\n",
              "    }\n",
              "    60% {\n",
              "      border-color: transparent;\n",
              "      border-right-color: var(--fill-color);\n",
              "    }\n",
              "    80% {\n",
              "      border-color: transparent;\n",
              "      border-right-color: var(--fill-color);\n",
              "      border-bottom-color: var(--fill-color);\n",
              "    }\n",
              "    90% {\n",
              "      border-color: transparent;\n",
              "      border-bottom-color: var(--fill-color);\n",
              "    }\n",
              "  }\n",
              "</style>\n",
              "\n",
              "  <script>\n",
              "    async function quickchart(key) {\n",
              "      const quickchartButtonEl =\n",
              "        document.querySelector('#' + key + ' button');\n",
              "      quickchartButtonEl.disabled = true;  // To prevent multiple clicks.\n",
              "      quickchartButtonEl.classList.add('colab-df-spinner');\n",
              "      try {\n",
              "        const charts = await google.colab.kernel.invokeFunction(\n",
              "            'suggestCharts', [key], {});\n",
              "      } catch (error) {\n",
              "        console.error('Error during call to suggestCharts:', error);\n",
              "      }\n",
              "      quickchartButtonEl.classList.remove('colab-df-spinner');\n",
              "      quickchartButtonEl.classList.add('colab-df-quickchart-complete');\n",
              "    }\n",
              "    (() => {\n",
              "      let quickchartButtonEl =\n",
              "        document.querySelector('#df-a9b8cf38-c6ed-4c29-8431-b0191fa214e7 button');\n",
              "      quickchartButtonEl.style.display =\n",
              "        google.colab.kernel.accessAllowed ? 'block' : 'none';\n",
              "    })();\n",
              "  </script>\n",
              "</div>\n",
              "\n",
              "  <div id=\"id_ea9b7f58-88c3-49ad-b04c-7513d6137adc\">\n",
              "    <style>\n",
              "      .colab-df-generate {\n",
              "        background-color: #E8F0FE;\n",
              "        border: none;\n",
              "        border-radius: 50%;\n",
              "        cursor: pointer;\n",
              "        display: none;\n",
              "        fill: #1967D2;\n",
              "        height: 32px;\n",
              "        padding: 0 0 0 0;\n",
              "        width: 32px;\n",
              "      }\n",
              "\n",
              "      .colab-df-generate:hover {\n",
              "        background-color: #E2EBFA;\n",
              "        box-shadow: 0px 1px 2px rgba(60, 64, 67, 0.3), 0px 1px 3px 1px rgba(60, 64, 67, 0.15);\n",
              "        fill: #174EA6;\n",
              "      }\n",
              "\n",
              "      [theme=dark] .colab-df-generate {\n",
              "        background-color: #3B4455;\n",
              "        fill: #D2E3FC;\n",
              "      }\n",
              "\n",
              "      [theme=dark] .colab-df-generate:hover {\n",
              "        background-color: #434B5C;\n",
              "        box-shadow: 0px 1px 3px 1px rgba(0, 0, 0, 0.15);\n",
              "        filter: drop-shadow(0px 1px 2px rgba(0, 0, 0, 0.3));\n",
              "        fill: #FFFFFF;\n",
              "      }\n",
              "    </style>\n",
              "    <button class=\"colab-df-generate\" onclick=\"generateWithVariable('data')\"\n",
              "            title=\"Generate code using this dataframe.\"\n",
              "            style=\"display:none;\">\n",
              "\n",
              "  <svg xmlns=\"http://www.w3.org/2000/svg\" height=\"24px\"viewBox=\"0 0 24 24\"\n",
              "       width=\"24px\">\n",
              "    <path d=\"M7,19H8.4L18.45,9,17,7.55,7,17.6ZM5,21V16.75L18.45,3.32a2,2,0,0,1,2.83,0l1.4,1.43a1.91,1.91,0,0,1,.58,1.4,1.91,1.91,0,0,1-.58,1.4L9.25,21ZM18.45,9,17,7.55Zm-12,3A5.31,5.31,0,0,0,4.9,8.1,5.31,5.31,0,0,0,1,6.5,5.31,5.31,0,0,0,4.9,4.9,5.31,5.31,0,0,0,6.5,1,5.31,5.31,0,0,0,8.1,4.9,5.31,5.31,0,0,0,12,6.5,5.46,5.46,0,0,0,6.5,12Z\"/>\n",
              "  </svg>\n",
              "    </button>\n",
              "    <script>\n",
              "      (() => {\n",
              "      const buttonEl =\n",
              "        document.querySelector('#id_ea9b7f58-88c3-49ad-b04c-7513d6137adc button.colab-df-generate');\n",
              "      buttonEl.style.display =\n",
              "        google.colab.kernel.accessAllowed ? 'block' : 'none';\n",
              "\n",
              "      buttonEl.onclick = () => {\n",
              "        google.colab.notebook.generateWithVariable('data');\n",
              "      }\n",
              "      })();\n",
              "    </script>\n",
              "  </div>\n",
              "\n",
              "    </div>\n",
              "  </div>\n"
            ],
            "application/vnd.google.colaboratory.intrinsic+json": {
              "type": "dataframe",
              "variable_name": "data",
              "summary": "{\n  \"name\": \"data\",\n  \"rows\": 1025,\n  \"fields\": [\n    {\n      \"column\": \"dexnum\",\n      \"properties\": {\n        \"dtype\": \"number\",\n        \"std\": 296,\n        \"min\": 1,\n        \"max\": 1025,\n        \"num_unique_values\": 1025,\n        \"samples\": [\n          498,\n          666,\n          578\n        ],\n        \"semantic_type\": \"\",\n        \"description\": \"\"\n      }\n    },\n    {\n      \"column\": \"name\",\n      \"properties\": {\n        \"dtype\": \"string\",\n        \"num_unique_values\": 1025,\n        \"samples\": [\n          \"Tepig\",\n          \"Vivillon\",\n          \"Duosion\"\n        ],\n        \"semantic_type\": \"\",\n        \"description\": \"\"\n      }\n    },\n    {\n      \"column\": \"generation\",\n      \"properties\": {\n        \"dtype\": \"number\",\n        \"std\": 2,\n        \"min\": 1,\n        \"max\": 9,\n        \"num_unique_values\": 9,\n        \"samples\": [\n          2,\n          8,\n          4\n        ],\n        \"semantic_type\": \"\",\n        \"description\": \"\"\n      }\n    },\n    {\n      \"column\": \"type1\",\n      \"properties\": {\n        \"dtype\": \"category\",\n        \"num_unique_values\": 18,\n        \"samples\": [\n          \"Poison\",\n          \"Normal\",\n          \"Fighting\"\n        ],\n        \"semantic_type\": \"\",\n        \"description\": \"\"\n      }\n    },\n    {\n      \"column\": \"type2\",\n      \"properties\": {\n        \"dtype\": \"category\",\n        \"num_unique_values\": 18,\n        \"samples\": [\n          \"Ghost\",\n          \"Psychic\",\n          \"Ice\"\n        ],\n        \"semantic_type\": \"\",\n        \"description\": \"\"\n      }\n    },\n    {\n      \"column\": \"height\",\n      \"properties\": {\n        \"dtype\": \"number\",\n        \"std\": 1.2481673455754916,\n        \"min\": 0.1,\n        \"max\": 20.0,\n        \"num_unique_values\": 54,\n        \"samples\": [\n          1.3,\n          7.0,\n          5.4\n        ],\n        \"semantic_type\": \"\",\n        \"description\": \"\"\n      }\n    },\n    {\n      \"column\": \"weight\",\n      \"properties\": {\n        \"dtype\": \"number\",\n        \"std\": 121.27537176226133,\n        \"min\": 0.1,\n        \"max\": 999.9,\n        \"num_unique_values\": 480,\n        \"samples\": [\n          0.4,\n          2.6,\n          88.8\n        ],\n        \"semantic_type\": \"\",\n        \"description\": \"\"\n      }\n    },\n    {\n      \"column\": \"hp\",\n      \"properties\": {\n        \"dtype\": \"number\",\n        \"std\": 26,\n        \"min\": 1,\n        \"max\": 255,\n        \"num_unique_values\": 107,\n        \"samples\": [\n          107,\n          74,\n          106\n        ],\n        \"semantic_type\": \"\",\n        \"description\": \"\"\n      }\n    },\n    {\n      \"column\": \"attack\",\n      \"properties\": {\n        \"dtype\": \"number\",\n        \"std\": 29,\n        \"min\": 5,\n        \"max\": 181,\n        \"num_unique_values\": 117,\n        \"samples\": [\n          78,\n          73,\n          41\n        ],\n        \"semantic_type\": \"\",\n        \"description\": \"\"\n      }\n    },\n    {\n      \"column\": \"defense\",\n      \"properties\": {\n        \"dtype\": \"number\",\n        \"std\": 29,\n        \"min\": 5,\n        \"max\": 230,\n        \"num_unique_values\": 108,\n        \"samples\": [\n          150,\n          66,\n          91\n        ],\n        \"semantic_type\": \"\",\n        \"description\": \"\"\n      }\n    },\n    {\n      \"column\": \"sp_atk\",\n      \"properties\": {\n        \"dtype\": \"number\",\n        \"std\": 29,\n        \"min\": 10,\n        \"max\": 173,\n        \"num_unique_values\": 113,\n        \"samples\": [\n          44,\n          137,\n          103\n        ],\n        \"semantic_type\": \"\",\n        \"description\": \"\"\n      }\n    },\n    {\n      \"column\": \"sp_def\",\n      \"properties\": {\n        \"dtype\": \"number\",\n        \"std\": 26,\n        \"min\": 20,\n        \"max\": 230,\n        \"num_unique_values\": 103,\n        \"samples\": [\n          55,\n          48,\n          71\n        ],\n        \"semantic_type\": \"\",\n        \"description\": \"\"\n      }\n    },\n    {\n      \"column\": \"speed\",\n      \"properties\": {\n        \"dtype\": \"number\",\n        \"std\": 28,\n        \"min\": 5,\n        \"max\": 200,\n        \"num_unique_values\": 119,\n        \"samples\": [\n          39,\n          103,\n          75\n        ],\n        \"semantic_type\": \"\",\n        \"description\": \"\"\n      }\n    },\n    {\n      \"column\": \"total\",\n      \"properties\": {\n        \"dtype\": \"number\",\n        \"std\": 112,\n        \"min\": 175,\n        \"max\": 720,\n        \"num_unique_values\": 207,\n        \"samples\": [\n          295,\n          430,\n          185\n        ],\n        \"semantic_type\": \"\",\n        \"description\": \"\"\n      }\n    },\n    {\n      \"column\": \"legendary\",\n      \"properties\": {\n        \"dtype\": \"number\",\n        \"std\": 0,\n        \"min\": 0,\n        \"max\": 1,\n        \"num_unique_values\": 2,\n        \"samples\": [\n          0,\n          1\n        ],\n        \"semantic_type\": \"\",\n        \"description\": \"\"\n      }\n    }\n  ]\n}"
            }
          },
          "metadata": {},
          "execution_count": 4
        }
      ]
    },
    {
      "cell_type": "code",
      "source": [
        "data_raw = data.copy() # usually, if memory allows it, it's a good idea to keep a raw version of your data"
      ],
      "metadata": {
        "execution": {
          "iopub.status.busy": "2023-10-09T10:04:03.140438Z",
          "iopub.execute_input": "2023-10-09T10:04:03.140795Z",
          "iopub.status.idle": "2023-10-09T10:04:03.145967Z",
          "shell.execute_reply.started": "2023-10-09T10:04:03.140766Z",
          "shell.execute_reply": "2023-10-09T10:04:03.144877Z"
        },
        "trusted": true,
        "id": "4xuE8RS0F-1L"
      },
      "execution_count": null,
      "outputs": []
    },
    {
      "cell_type": "markdown",
      "source": [
        "# Pre-processing / encoding"
      ],
      "metadata": {
        "id": "pW9qbuLEF-1L"
      }
    },
    {
      "cell_type": "code",
      "source": [
        "data.info()"
      ],
      "metadata": {
        "execution": {
          "iopub.status.busy": "2023-10-09T10:04:04.633636Z",
          "iopub.execute_input": "2023-10-09T10:04:04.634264Z",
          "iopub.status.idle": "2023-10-09T10:04:04.650997Z",
          "shell.execute_reply.started": "2023-10-09T10:04:04.634221Z",
          "shell.execute_reply": "2023-10-09T10:04:04.649508Z"
        },
        "trusted": true,
        "id": "otv7GlCxF-1L",
        "colab": {
          "base_uri": "https://localhost:8080/"
        },
        "outputId": "7549e9cb-eee1-4b18-ecf5-5f1c133f51c0"
      },
      "execution_count": null,
      "outputs": [
        {
          "output_type": "stream",
          "name": "stdout",
          "text": [
            "<class 'pandas.core.frame.DataFrame'>\n",
            "RangeIndex: 1025 entries, 0 to 1024\n",
            "Data columns (total 15 columns):\n",
            " #   Column      Non-Null Count  Dtype  \n",
            "---  ------      --------------  -----  \n",
            " 0   dexnum      1025 non-null   int64  \n",
            " 1   name        1025 non-null   object \n",
            " 2   generation  1025 non-null   int64  \n",
            " 3   type1       1025 non-null   object \n",
            " 4   type2       526 non-null    object \n",
            " 5   height      1025 non-null   float64\n",
            " 6   weight      1025 non-null   float64\n",
            " 7   hp          1025 non-null   int64  \n",
            " 8   attack      1025 non-null   int64  \n",
            " 9   defense     1025 non-null   int64  \n",
            " 10  sp_atk      1025 non-null   int64  \n",
            " 11  sp_def      1025 non-null   int64  \n",
            " 12  speed       1025 non-null   int64  \n",
            " 13  total       1025 non-null   int64  \n",
            " 14  legendary   1025 non-null   int64  \n",
            "dtypes: float64(2), int64(10), object(3)\n",
            "memory usage: 120.2+ KB\n"
          ]
        }
      ]
    },
    {
      "cell_type": "code",
      "source": [
        "data.isna().sum()"
      ],
      "metadata": {
        "execution": {
          "iopub.status.busy": "2023-10-09T10:04:05.073162Z",
          "iopub.execute_input": "2023-10-09T10:04:05.073708Z",
          "iopub.status.idle": "2023-10-09T10:04:05.081791Z",
          "shell.execute_reply.started": "2023-10-09T10:04:05.073676Z",
          "shell.execute_reply": "2023-10-09T10:04:05.080673Z"
        },
        "trusted": true,
        "id": "RjZqyB6bF-1L",
        "colab": {
          "base_uri": "https://localhost:8080/",
          "height": 554
        },
        "outputId": "dfbb5e66-0dff-4f8a-abd7-89e95566e987"
      },
      "execution_count": null,
      "outputs": [
        {
          "output_type": "execute_result",
          "data": {
            "text/plain": [
              "dexnum          0\n",
              "name            0\n",
              "generation      0\n",
              "type1           0\n",
              "type2         499\n",
              "height          0\n",
              "weight          0\n",
              "hp              0\n",
              "attack          0\n",
              "defense         0\n",
              "sp_atk          0\n",
              "sp_def          0\n",
              "speed           0\n",
              "total           0\n",
              "legendary       0\n",
              "dtype: int64"
            ],
            "text/html": [
              "<div>\n",
              "<style scoped>\n",
              "    .dataframe tbody tr th:only-of-type {\n",
              "        vertical-align: middle;\n",
              "    }\n",
              "\n",
              "    .dataframe tbody tr th {\n",
              "        vertical-align: top;\n",
              "    }\n",
              "\n",
              "    .dataframe thead th {\n",
              "        text-align: right;\n",
              "    }\n",
              "</style>\n",
              "<table border=\"1\" class=\"dataframe\">\n",
              "  <thead>\n",
              "    <tr style=\"text-align: right;\">\n",
              "      <th></th>\n",
              "      <th>0</th>\n",
              "    </tr>\n",
              "  </thead>\n",
              "  <tbody>\n",
              "    <tr>\n",
              "      <th>dexnum</th>\n",
              "      <td>0</td>\n",
              "    </tr>\n",
              "    <tr>\n",
              "      <th>name</th>\n",
              "      <td>0</td>\n",
              "    </tr>\n",
              "    <tr>\n",
              "      <th>generation</th>\n",
              "      <td>0</td>\n",
              "    </tr>\n",
              "    <tr>\n",
              "      <th>type1</th>\n",
              "      <td>0</td>\n",
              "    </tr>\n",
              "    <tr>\n",
              "      <th>type2</th>\n",
              "      <td>499</td>\n",
              "    </tr>\n",
              "    <tr>\n",
              "      <th>height</th>\n",
              "      <td>0</td>\n",
              "    </tr>\n",
              "    <tr>\n",
              "      <th>weight</th>\n",
              "      <td>0</td>\n",
              "    </tr>\n",
              "    <tr>\n",
              "      <th>hp</th>\n",
              "      <td>0</td>\n",
              "    </tr>\n",
              "    <tr>\n",
              "      <th>attack</th>\n",
              "      <td>0</td>\n",
              "    </tr>\n",
              "    <tr>\n",
              "      <th>defense</th>\n",
              "      <td>0</td>\n",
              "    </tr>\n",
              "    <tr>\n",
              "      <th>sp_atk</th>\n",
              "      <td>0</td>\n",
              "    </tr>\n",
              "    <tr>\n",
              "      <th>sp_def</th>\n",
              "      <td>0</td>\n",
              "    </tr>\n",
              "    <tr>\n",
              "      <th>speed</th>\n",
              "      <td>0</td>\n",
              "    </tr>\n",
              "    <tr>\n",
              "      <th>total</th>\n",
              "      <td>0</td>\n",
              "    </tr>\n",
              "    <tr>\n",
              "      <th>legendary</th>\n",
              "      <td>0</td>\n",
              "    </tr>\n",
              "  </tbody>\n",
              "</table>\n",
              "</div><br><label><b>dtype:</b> int64</label>"
            ]
          },
          "metadata": {},
          "execution_count": 7
        }
      ]
    },
    {
      "cell_type": "code",
      "source": [
        "data = data.drop(['dexnum', 'name', 'type2'], axis=1)\n",
        "# dropping type 2 is actually a debeatable step, it may provide useful information\n",
        "# data = data.drop([\"#\", \"Name\"], axis=1)"
      ],
      "metadata": {
        "execution": {
          "iopub.status.busy": "2023-10-09T10:04:05.732052Z",
          "iopub.execute_input": "2023-10-09T10:04:05.732577Z",
          "iopub.status.idle": "2023-10-09T10:04:05.737607Z",
          "shell.execute_reply.started": "2023-10-09T10:04:05.732545Z",
          "shell.execute_reply": "2023-10-09T10:04:05.736726Z"
        },
        "trusted": true,
        "id": "4whGrOvSF-1L"
      },
      "execution_count": null,
      "outputs": []
    },
    {
      "cell_type": "code",
      "source": [
        "data['legendary'] = data['legendary'].astype(int)\n",
        "data['generation'] = data['generation'].astype(str)"
      ],
      "metadata": {
        "execution": {
          "iopub.status.busy": "2023-10-09T10:04:17.132078Z",
          "iopub.execute_input": "2023-10-09T10:04:17.132717Z",
          "iopub.status.idle": "2023-10-09T10:04:17.137572Z",
          "shell.execute_reply.started": "2023-10-09T10:04:17.132680Z",
          "shell.execute_reply": "2023-10-09T10:04:17.136616Z"
        },
        "trusted": true,
        "id": "ZabDJRZaF-1M"
      },
      "execution_count": null,
      "outputs": []
    },
    {
      "cell_type": "code",
      "source": [
        "data.dtypes"
      ],
      "metadata": {
        "execution": {
          "iopub.status.busy": "2023-10-09T10:04:25.424830Z",
          "iopub.execute_input": "2023-10-09T10:04:25.425522Z",
          "iopub.status.idle": "2023-10-09T10:04:25.433340Z",
          "shell.execute_reply.started": "2023-10-09T10:04:25.425473Z",
          "shell.execute_reply": "2023-10-09T10:04:25.432589Z"
        },
        "trusted": true,
        "id": "bqVbYkL3F-1M",
        "colab": {
          "base_uri": "https://localhost:8080/",
          "height": 460
        },
        "outputId": "927c038c-4e9e-414d-9172-12fcab898a60"
      },
      "execution_count": null,
      "outputs": [
        {
          "output_type": "execute_result",
          "data": {
            "text/plain": [
              "generation     object\n",
              "type1          object\n",
              "height        float64\n",
              "weight        float64\n",
              "hp              int64\n",
              "attack          int64\n",
              "defense         int64\n",
              "sp_atk          int64\n",
              "sp_def          int64\n",
              "speed           int64\n",
              "total           int64\n",
              "legendary       int64\n",
              "dtype: object"
            ],
            "text/html": [
              "<div>\n",
              "<style scoped>\n",
              "    .dataframe tbody tr th:only-of-type {\n",
              "        vertical-align: middle;\n",
              "    }\n",
              "\n",
              "    .dataframe tbody tr th {\n",
              "        vertical-align: top;\n",
              "    }\n",
              "\n",
              "    .dataframe thead th {\n",
              "        text-align: right;\n",
              "    }\n",
              "</style>\n",
              "<table border=\"1\" class=\"dataframe\">\n",
              "  <thead>\n",
              "    <tr style=\"text-align: right;\">\n",
              "      <th></th>\n",
              "      <th>0</th>\n",
              "    </tr>\n",
              "  </thead>\n",
              "  <tbody>\n",
              "    <tr>\n",
              "      <th>generation</th>\n",
              "      <td>object</td>\n",
              "    </tr>\n",
              "    <tr>\n",
              "      <th>type1</th>\n",
              "      <td>object</td>\n",
              "    </tr>\n",
              "    <tr>\n",
              "      <th>height</th>\n",
              "      <td>float64</td>\n",
              "    </tr>\n",
              "    <tr>\n",
              "      <th>weight</th>\n",
              "      <td>float64</td>\n",
              "    </tr>\n",
              "    <tr>\n",
              "      <th>hp</th>\n",
              "      <td>int64</td>\n",
              "    </tr>\n",
              "    <tr>\n",
              "      <th>attack</th>\n",
              "      <td>int64</td>\n",
              "    </tr>\n",
              "    <tr>\n",
              "      <th>defense</th>\n",
              "      <td>int64</td>\n",
              "    </tr>\n",
              "    <tr>\n",
              "      <th>sp_atk</th>\n",
              "      <td>int64</td>\n",
              "    </tr>\n",
              "    <tr>\n",
              "      <th>sp_def</th>\n",
              "      <td>int64</td>\n",
              "    </tr>\n",
              "    <tr>\n",
              "      <th>speed</th>\n",
              "      <td>int64</td>\n",
              "    </tr>\n",
              "    <tr>\n",
              "      <th>total</th>\n",
              "      <td>int64</td>\n",
              "    </tr>\n",
              "    <tr>\n",
              "      <th>legendary</th>\n",
              "      <td>int64</td>\n",
              "    </tr>\n",
              "  </tbody>\n",
              "</table>\n",
              "</div><br><label><b>dtype:</b> object</label>"
            ]
          },
          "metadata": {},
          "execution_count": 10
        }
      ]
    },
    {
      "cell_type": "markdown",
      "source": [
        "Categorical variables are one-hot encoded"
      ],
      "metadata": {
        "id": "j4DN8agr8Wp_"
      }
    },
    {
      "cell_type": "code",
      "source": [
        "def onehot_encode(df, column, prefix):\n",
        "    df = df.copy()\n",
        "    dummies = pd.get_dummies(df[column], prefix=prefix)\n",
        "    df = pd.concat([df, dummies], axis=1)\n",
        "    df = df.drop(column, axis=1)\n",
        "    return df"
      ],
      "metadata": {
        "execution": {
          "iopub.status.busy": "2023-10-09T10:04:27.609285Z",
          "iopub.execute_input": "2023-10-09T10:04:27.609994Z",
          "iopub.status.idle": "2023-10-09T10:04:27.616135Z",
          "shell.execute_reply.started": "2023-10-09T10:04:27.609945Z",
          "shell.execute_reply": "2023-10-09T10:04:27.615476Z"
        },
        "trusted": true,
        "id": "FCvblzRqF-1M"
      },
      "execution_count": null,
      "outputs": []
    },
    {
      "cell_type": "code",
      "source": [
        "data = onehot_encode(data, 'type1', 't')\n",
        "data = onehot_encode(data, 'generation', 'g')"
      ],
      "metadata": {
        "execution": {
          "iopub.status.busy": "2023-10-09T10:04:27.940418Z",
          "iopub.execute_input": "2023-10-09T10:04:27.941093Z",
          "iopub.status.idle": "2023-10-09T10:04:27.950841Z",
          "shell.execute_reply.started": "2023-10-09T10:04:27.941046Z",
          "shell.execute_reply": "2023-10-09T10:04:27.949833Z"
        },
        "trusted": true,
        "id": "IOOSfBXJF-1N"
      },
      "execution_count": null,
      "outputs": []
    },
    {
      "cell_type": "code",
      "source": [
        "data.shape"
      ],
      "metadata": {
        "execution": {
          "iopub.status.busy": "2023-10-09T10:04:28.321000Z",
          "iopub.execute_input": "2023-10-09T10:04:28.321322Z",
          "iopub.status.idle": "2023-10-09T10:04:28.345828Z",
          "shell.execute_reply.started": "2023-10-09T10:04:28.321293Z",
          "shell.execute_reply": "2023-10-09T10:04:28.344806Z"
        },
        "trusted": true,
        "id": "lJmDYSiwF-1N",
        "colab": {
          "base_uri": "https://localhost:8080/"
        },
        "outputId": "85b124a3-3087-41d0-861d-fcc1464b1471"
      },
      "execution_count": null,
      "outputs": [
        {
          "output_type": "execute_result",
          "data": {
            "text/plain": [
              "(1025, 37)"
            ]
          },
          "metadata": {},
          "execution_count": 13
        }
      ]
    },
    {
      "cell_type": "code",
      "source": [
        "data.head()"
      ],
      "metadata": {
        "colab": {
          "base_uri": "https://localhost:8080/",
          "height": 236
        },
        "id": "NPPwrj0xbB_F",
        "outputId": "896ba2bd-17d2-4fbf-85ab-0113720a68fd"
      },
      "execution_count": null,
      "outputs": [
        {
          "output_type": "execute_result",
          "data": {
            "text/plain": [
              "   height  weight   hp  attack  defense  sp_atk  sp_def  speed  total  \\\n",
              "0     0.3     0.3   88      88      160      88      88     88    600   \n",
              "1     0.2     6.5   90      65       85      65      85     60    450   \n",
              "2     1.6   156.0   90      72      100     122     108     98    590   \n",
              "3     1.5   162.5   90     120       80      68     108    124    590   \n",
              "4     5.2   480.0  125      73       91     137      89     75    590   \n",
              "\n",
              "   legendary  ...  t_Water    g_1    g_2    g_3    g_4    g_5    g_6    g_7  \\\n",
              "0          1  ...    False  False  False  False  False  False  False  False   \n",
              "1          1  ...    False  False  False  False  False  False  False  False   \n",
              "2          0  ...    False  False  False  False  False  False  False  False   \n",
              "3          0  ...    False  False  False  False  False  False  False  False   \n",
              "4          0  ...    False  False  False  False  False  False  False  False   \n",
              "\n",
              "     g_8   g_9  \n",
              "0  False  True  \n",
              "1  False  True  \n",
              "2  False  True  \n",
              "3  False  True  \n",
              "4  False  True  \n",
              "\n",
              "[5 rows x 37 columns]"
            ],
            "text/html": [
              "\n",
              "  <div id=\"df-7dfb10cc-2f75-4928-881b-63ac0f6ac981\" class=\"colab-df-container\">\n",
              "    <div>\n",
              "<style scoped>\n",
              "    .dataframe tbody tr th:only-of-type {\n",
              "        vertical-align: middle;\n",
              "    }\n",
              "\n",
              "    .dataframe tbody tr th {\n",
              "        vertical-align: top;\n",
              "    }\n",
              "\n",
              "    .dataframe thead th {\n",
              "        text-align: right;\n",
              "    }\n",
              "</style>\n",
              "<table border=\"1\" class=\"dataframe\">\n",
              "  <thead>\n",
              "    <tr style=\"text-align: right;\">\n",
              "      <th></th>\n",
              "      <th>height</th>\n",
              "      <th>weight</th>\n",
              "      <th>hp</th>\n",
              "      <th>attack</th>\n",
              "      <th>defense</th>\n",
              "      <th>sp_atk</th>\n",
              "      <th>sp_def</th>\n",
              "      <th>speed</th>\n",
              "      <th>total</th>\n",
              "      <th>legendary</th>\n",
              "      <th>...</th>\n",
              "      <th>t_Water</th>\n",
              "      <th>g_1</th>\n",
              "      <th>g_2</th>\n",
              "      <th>g_3</th>\n",
              "      <th>g_4</th>\n",
              "      <th>g_5</th>\n",
              "      <th>g_6</th>\n",
              "      <th>g_7</th>\n",
              "      <th>g_8</th>\n",
              "      <th>g_9</th>\n",
              "    </tr>\n",
              "  </thead>\n",
              "  <tbody>\n",
              "    <tr>\n",
              "      <th>0</th>\n",
              "      <td>0.3</td>\n",
              "      <td>0.3</td>\n",
              "      <td>88</td>\n",
              "      <td>88</td>\n",
              "      <td>160</td>\n",
              "      <td>88</td>\n",
              "      <td>88</td>\n",
              "      <td>88</td>\n",
              "      <td>600</td>\n",
              "      <td>1</td>\n",
              "      <td>...</td>\n",
              "      <td>False</td>\n",
              "      <td>False</td>\n",
              "      <td>False</td>\n",
              "      <td>False</td>\n",
              "      <td>False</td>\n",
              "      <td>False</td>\n",
              "      <td>False</td>\n",
              "      <td>False</td>\n",
              "      <td>False</td>\n",
              "      <td>True</td>\n",
              "    </tr>\n",
              "    <tr>\n",
              "      <th>1</th>\n",
              "      <td>0.2</td>\n",
              "      <td>6.5</td>\n",
              "      <td>90</td>\n",
              "      <td>65</td>\n",
              "      <td>85</td>\n",
              "      <td>65</td>\n",
              "      <td>85</td>\n",
              "      <td>60</td>\n",
              "      <td>450</td>\n",
              "      <td>1</td>\n",
              "      <td>...</td>\n",
              "      <td>False</td>\n",
              "      <td>False</td>\n",
              "      <td>False</td>\n",
              "      <td>False</td>\n",
              "      <td>False</td>\n",
              "      <td>False</td>\n",
              "      <td>False</td>\n",
              "      <td>False</td>\n",
              "      <td>False</td>\n",
              "      <td>True</td>\n",
              "    </tr>\n",
              "    <tr>\n",
              "      <th>2</th>\n",
              "      <td>1.6</td>\n",
              "      <td>156.0</td>\n",
              "      <td>90</td>\n",
              "      <td>72</td>\n",
              "      <td>100</td>\n",
              "      <td>122</td>\n",
              "      <td>108</td>\n",
              "      <td>98</td>\n",
              "      <td>590</td>\n",
              "      <td>0</td>\n",
              "      <td>...</td>\n",
              "      <td>False</td>\n",
              "      <td>False</td>\n",
              "      <td>False</td>\n",
              "      <td>False</td>\n",
              "      <td>False</td>\n",
              "      <td>False</td>\n",
              "      <td>False</td>\n",
              "      <td>False</td>\n",
              "      <td>False</td>\n",
              "      <td>True</td>\n",
              "    </tr>\n",
              "    <tr>\n",
              "      <th>3</th>\n",
              "      <td>1.5</td>\n",
              "      <td>162.5</td>\n",
              "      <td>90</td>\n",
              "      <td>120</td>\n",
              "      <td>80</td>\n",
              "      <td>68</td>\n",
              "      <td>108</td>\n",
              "      <td>124</td>\n",
              "      <td>590</td>\n",
              "      <td>0</td>\n",
              "      <td>...</td>\n",
              "      <td>False</td>\n",
              "      <td>False</td>\n",
              "      <td>False</td>\n",
              "      <td>False</td>\n",
              "      <td>False</td>\n",
              "      <td>False</td>\n",
              "      <td>False</td>\n",
              "      <td>False</td>\n",
              "      <td>False</td>\n",
              "      <td>True</td>\n",
              "    </tr>\n",
              "    <tr>\n",
              "      <th>4</th>\n",
              "      <td>5.2</td>\n",
              "      <td>480.0</td>\n",
              "      <td>125</td>\n",
              "      <td>73</td>\n",
              "      <td>91</td>\n",
              "      <td>137</td>\n",
              "      <td>89</td>\n",
              "      <td>75</td>\n",
              "      <td>590</td>\n",
              "      <td>0</td>\n",
              "      <td>...</td>\n",
              "      <td>False</td>\n",
              "      <td>False</td>\n",
              "      <td>False</td>\n",
              "      <td>False</td>\n",
              "      <td>False</td>\n",
              "      <td>False</td>\n",
              "      <td>False</td>\n",
              "      <td>False</td>\n",
              "      <td>False</td>\n",
              "      <td>True</td>\n",
              "    </tr>\n",
              "  </tbody>\n",
              "</table>\n",
              "<p>5 rows × 37 columns</p>\n",
              "</div>\n",
              "    <div class=\"colab-df-buttons\">\n",
              "\n",
              "  <div class=\"colab-df-container\">\n",
              "    <button class=\"colab-df-convert\" onclick=\"convertToInteractive('df-7dfb10cc-2f75-4928-881b-63ac0f6ac981')\"\n",
              "            title=\"Convert this dataframe to an interactive table.\"\n",
              "            style=\"display:none;\">\n",
              "\n",
              "  <svg xmlns=\"http://www.w3.org/2000/svg\" height=\"24px\" viewBox=\"0 -960 960 960\">\n",
              "    <path d=\"M120-120v-720h720v720H120Zm60-500h600v-160H180v160Zm220 220h160v-160H400v160Zm0 220h160v-160H400v160ZM180-400h160v-160H180v160Zm440 0h160v-160H620v160ZM180-180h160v-160H180v160Zm440 0h160v-160H620v160Z\"/>\n",
              "  </svg>\n",
              "    </button>\n",
              "\n",
              "  <style>\n",
              "    .colab-df-container {\n",
              "      display:flex;\n",
              "      gap: 12px;\n",
              "    }\n",
              "\n",
              "    .colab-df-convert {\n",
              "      background-color: #E8F0FE;\n",
              "      border: none;\n",
              "      border-radius: 50%;\n",
              "      cursor: pointer;\n",
              "      display: none;\n",
              "      fill: #1967D2;\n",
              "      height: 32px;\n",
              "      padding: 0 0 0 0;\n",
              "      width: 32px;\n",
              "    }\n",
              "\n",
              "    .colab-df-convert:hover {\n",
              "      background-color: #E2EBFA;\n",
              "      box-shadow: 0px 1px 2px rgba(60, 64, 67, 0.3), 0px 1px 3px 1px rgba(60, 64, 67, 0.15);\n",
              "      fill: #174EA6;\n",
              "    }\n",
              "\n",
              "    .colab-df-buttons div {\n",
              "      margin-bottom: 4px;\n",
              "    }\n",
              "\n",
              "    [theme=dark] .colab-df-convert {\n",
              "      background-color: #3B4455;\n",
              "      fill: #D2E3FC;\n",
              "    }\n",
              "\n",
              "    [theme=dark] .colab-df-convert:hover {\n",
              "      background-color: #434B5C;\n",
              "      box-shadow: 0px 1px 3px 1px rgba(0, 0, 0, 0.15);\n",
              "      filter: drop-shadow(0px 1px 2px rgba(0, 0, 0, 0.3));\n",
              "      fill: #FFFFFF;\n",
              "    }\n",
              "  </style>\n",
              "\n",
              "    <script>\n",
              "      const buttonEl =\n",
              "        document.querySelector('#df-7dfb10cc-2f75-4928-881b-63ac0f6ac981 button.colab-df-convert');\n",
              "      buttonEl.style.display =\n",
              "        google.colab.kernel.accessAllowed ? 'block' : 'none';\n",
              "\n",
              "      async function convertToInteractive(key) {\n",
              "        const element = document.querySelector('#df-7dfb10cc-2f75-4928-881b-63ac0f6ac981');\n",
              "        const dataTable =\n",
              "          await google.colab.kernel.invokeFunction('convertToInteractive',\n",
              "                                                    [key], {});\n",
              "        if (!dataTable) return;\n",
              "\n",
              "        const docLinkHtml = 'Like what you see? Visit the ' +\n",
              "          '<a target=\"_blank\" href=https://colab.research.google.com/notebooks/data_table.ipynb>data table notebook</a>'\n",
              "          + ' to learn more about interactive tables.';\n",
              "        element.innerHTML = '';\n",
              "        dataTable['output_type'] = 'display_data';\n",
              "        await google.colab.output.renderOutput(dataTable, element);\n",
              "        const docLink = document.createElement('div');\n",
              "        docLink.innerHTML = docLinkHtml;\n",
              "        element.appendChild(docLink);\n",
              "      }\n",
              "    </script>\n",
              "  </div>\n",
              "\n",
              "\n",
              "<div id=\"df-cf3b9342-53d6-4ef3-8b34-d5712ba64f44\">\n",
              "  <button class=\"colab-df-quickchart\" onclick=\"quickchart('df-cf3b9342-53d6-4ef3-8b34-d5712ba64f44')\"\n",
              "            title=\"Suggest charts\"\n",
              "            style=\"display:none;\">\n",
              "\n",
              "<svg xmlns=\"http://www.w3.org/2000/svg\" height=\"24px\"viewBox=\"0 0 24 24\"\n",
              "     width=\"24px\">\n",
              "    <g>\n",
              "        <path d=\"M19 3H5c-1.1 0-2 .9-2 2v14c0 1.1.9 2 2 2h14c1.1 0 2-.9 2-2V5c0-1.1-.9-2-2-2zM9 17H7v-7h2v7zm4 0h-2V7h2v10zm4 0h-2v-4h2v4z\"/>\n",
              "    </g>\n",
              "</svg>\n",
              "  </button>\n",
              "\n",
              "<style>\n",
              "  .colab-df-quickchart {\n",
              "      --bg-color: #E8F0FE;\n",
              "      --fill-color: #1967D2;\n",
              "      --hover-bg-color: #E2EBFA;\n",
              "      --hover-fill-color: #174EA6;\n",
              "      --disabled-fill-color: #AAA;\n",
              "      --disabled-bg-color: #DDD;\n",
              "  }\n",
              "\n",
              "  [theme=dark] .colab-df-quickchart {\n",
              "      --bg-color: #3B4455;\n",
              "      --fill-color: #D2E3FC;\n",
              "      --hover-bg-color: #434B5C;\n",
              "      --hover-fill-color: #FFFFFF;\n",
              "      --disabled-bg-color: #3B4455;\n",
              "      --disabled-fill-color: #666;\n",
              "  }\n",
              "\n",
              "  .colab-df-quickchart {\n",
              "    background-color: var(--bg-color);\n",
              "    border: none;\n",
              "    border-radius: 50%;\n",
              "    cursor: pointer;\n",
              "    display: none;\n",
              "    fill: var(--fill-color);\n",
              "    height: 32px;\n",
              "    padding: 0;\n",
              "    width: 32px;\n",
              "  }\n",
              "\n",
              "  .colab-df-quickchart:hover {\n",
              "    background-color: var(--hover-bg-color);\n",
              "    box-shadow: 0 1px 2px rgba(60, 64, 67, 0.3), 0 1px 3px 1px rgba(60, 64, 67, 0.15);\n",
              "    fill: var(--button-hover-fill-color);\n",
              "  }\n",
              "\n",
              "  .colab-df-quickchart-complete:disabled,\n",
              "  .colab-df-quickchart-complete:disabled:hover {\n",
              "    background-color: var(--disabled-bg-color);\n",
              "    fill: var(--disabled-fill-color);\n",
              "    box-shadow: none;\n",
              "  }\n",
              "\n",
              "  .colab-df-spinner {\n",
              "    border: 2px solid var(--fill-color);\n",
              "    border-color: transparent;\n",
              "    border-bottom-color: var(--fill-color);\n",
              "    animation:\n",
              "      spin 1s steps(1) infinite;\n",
              "  }\n",
              "\n",
              "  @keyframes spin {\n",
              "    0% {\n",
              "      border-color: transparent;\n",
              "      border-bottom-color: var(--fill-color);\n",
              "      border-left-color: var(--fill-color);\n",
              "    }\n",
              "    20% {\n",
              "      border-color: transparent;\n",
              "      border-left-color: var(--fill-color);\n",
              "      border-top-color: var(--fill-color);\n",
              "    }\n",
              "    30% {\n",
              "      border-color: transparent;\n",
              "      border-left-color: var(--fill-color);\n",
              "      border-top-color: var(--fill-color);\n",
              "      border-right-color: var(--fill-color);\n",
              "    }\n",
              "    40% {\n",
              "      border-color: transparent;\n",
              "      border-right-color: var(--fill-color);\n",
              "      border-top-color: var(--fill-color);\n",
              "    }\n",
              "    60% {\n",
              "      border-color: transparent;\n",
              "      border-right-color: var(--fill-color);\n",
              "    }\n",
              "    80% {\n",
              "      border-color: transparent;\n",
              "      border-right-color: var(--fill-color);\n",
              "      border-bottom-color: var(--fill-color);\n",
              "    }\n",
              "    90% {\n",
              "      border-color: transparent;\n",
              "      border-bottom-color: var(--fill-color);\n",
              "    }\n",
              "  }\n",
              "</style>\n",
              "\n",
              "  <script>\n",
              "    async function quickchart(key) {\n",
              "      const quickchartButtonEl =\n",
              "        document.querySelector('#' + key + ' button');\n",
              "      quickchartButtonEl.disabled = true;  // To prevent multiple clicks.\n",
              "      quickchartButtonEl.classList.add('colab-df-spinner');\n",
              "      try {\n",
              "        const charts = await google.colab.kernel.invokeFunction(\n",
              "            'suggestCharts', [key], {});\n",
              "      } catch (error) {\n",
              "        console.error('Error during call to suggestCharts:', error);\n",
              "      }\n",
              "      quickchartButtonEl.classList.remove('colab-df-spinner');\n",
              "      quickchartButtonEl.classList.add('colab-df-quickchart-complete');\n",
              "    }\n",
              "    (() => {\n",
              "      let quickchartButtonEl =\n",
              "        document.querySelector('#df-cf3b9342-53d6-4ef3-8b34-d5712ba64f44 button');\n",
              "      quickchartButtonEl.style.display =\n",
              "        google.colab.kernel.accessAllowed ? 'block' : 'none';\n",
              "    })();\n",
              "  </script>\n",
              "</div>\n",
              "\n",
              "    </div>\n",
              "  </div>\n"
            ],
            "application/vnd.google.colaboratory.intrinsic+json": {
              "type": "dataframe",
              "variable_name": "data"
            }
          },
          "metadata": {},
          "execution_count": 14
        }
      ]
    },
    {
      "cell_type": "markdown",
      "source": [
        "## Splitting and Scaling"
      ],
      "metadata": {
        "id": "30niefA6F-1N"
      }
    },
    {
      "cell_type": "code",
      "source": [
        "data.columns # note that only the first 9 features are continuous now"
      ],
      "metadata": {
        "id": "a9N2nv8O8iKT",
        "colab": {
          "base_uri": "https://localhost:8080/"
        },
        "outputId": "56d09aa1-abae-4ec4-9a66-a55b3706d10f"
      },
      "execution_count": null,
      "outputs": [
        {
          "output_type": "execute_result",
          "data": {
            "text/plain": [
              "Index(['height', 'weight', 'hp', 'attack', 'defense', 'sp_atk', 'sp_def',\n",
              "       'speed', 'total', 'legendary', 't_Bug', 't_Dark', 't_Dragon',\n",
              "       't_Electric', 't_Fairy', 't_Fighting', 't_Fire', 't_Flying', 't_Ghost',\n",
              "       't_Grass', 't_Ground', 't_Ice', 't_Normal', 't_Poison', 't_Psychic',\n",
              "       't_Rock', 't_Steel', 't_Water', 'g_1', 'g_2', 'g_3', 'g_4', 'g_5',\n",
              "       'g_6', 'g_7', 'g_8', 'g_9'],\n",
              "      dtype='object')"
            ]
          },
          "metadata": {},
          "execution_count": 15
        }
      ]
    },
    {
      "cell_type": "code",
      "source": [
        "y = data['legendary']\n",
        "X = data.drop('legendary', axis=1)"
      ],
      "metadata": {
        "execution": {
          "iopub.status.busy": "2023-10-09T10:04:36.261494Z",
          "iopub.execute_input": "2023-10-09T10:04:36.262122Z",
          "iopub.status.idle": "2023-10-09T10:04:36.269171Z",
          "shell.execute_reply.started": "2023-10-09T10:04:36.262071Z",
          "shell.execute_reply": "2023-10-09T10:04:36.268451Z"
        },
        "trusted": true,
        "id": "KR-yDxraF-1N"
      },
      "execution_count": null,
      "outputs": []
    },
    {
      "cell_type": "code",
      "source": [
        "scaler = StandardScaler()\n",
        "\n",
        "X_scaled = scaler.fit_transform(X.iloc[:,:9])\n",
        "X = np.concatenate((X_scaled, np.array(X.iloc[:,9:])), axis=1)"
      ],
      "metadata": {
        "execution": {
          "iopub.status.busy": "2023-10-09T10:04:37.531465Z",
          "iopub.execute_input": "2023-10-09T10:04:37.532104Z",
          "iopub.status.idle": "2023-10-09T10:04:37.542125Z",
          "shell.execute_reply.started": "2023-10-09T10:04:37.532051Z",
          "shell.execute_reply": "2023-10-09T10:04:37.541465Z"
        },
        "trusted": true,
        "id": "y14BFzZyF-1N"
      },
      "execution_count": null,
      "outputs": []
    },
    {
      "cell_type": "code",
      "source": [
        "# keep the proportions for the split equal and specify a seed of 42, we want a fair fight!\n",
        "# Note: end split should be 0.60,0.20,0.20 for train,valid,test\n",
        "\n",
        "train_size = 0.6\n",
        "valid_size = 0.4\n",
        "test_size = 0.5\n",
        "X_train, X_test, y_train, y_test = train_test_split(X, y, test_size=valid_size, random_state=42)\n",
        "X_valid, X_test, y_valid, y_test = train_test_split(X_test, y_test, test_size=test_size, random_state=42)"
      ],
      "metadata": {
        "execution": {
          "iopub.status.busy": "2023-10-09T10:04:40.091562Z",
          "iopub.execute_input": "2023-10-09T10:04:40.092048Z",
          "iopub.status.idle": "2023-10-09T10:04:40.097770Z",
          "shell.execute_reply.started": "2023-10-09T10:04:40.092017Z",
          "shell.execute_reply": "2023-10-09T10:04:40.096980Z"
        },
        "trusted": true,
        "id": "XyY5f5BxF-1N"
      },
      "execution_count": null,
      "outputs": []
    },
    {
      "cell_type": "markdown",
      "source": [
        "# Model definition"
      ],
      "metadata": {
        "id": "SeI7sgXRF-1N"
      }
    },
    {
      "cell_type": "code",
      "source": [
        "device = torch.device('cuda' if torch.cuda.is_available() else 'mps' if torch.backends.mps.is_available() else 'cpu')\n",
        "print(f\"Using {device} device\")"
      ],
      "metadata": {
        "execution": {
          "iopub.status.busy": "2023-10-09T10:04:41.289646Z",
          "iopub.execute_input": "2023-10-09T10:04:41.290174Z",
          "iopub.status.idle": "2023-10-09T10:04:41.296775Z",
          "shell.execute_reply.started": "2023-10-09T10:04:41.290135Z",
          "shell.execute_reply": "2023-10-09T10:04:41.295898Z"
        },
        "trusted": true,
        "id": "eYpu0pOIF-1N",
        "colab": {
          "base_uri": "https://localhost:8080/"
        },
        "outputId": "8d791cb0-8351-422b-d07e-20b2f1e7d706"
      },
      "execution_count": null,
      "outputs": [
        {
          "output_type": "stream",
          "name": "stdout",
          "text": [
            "Using cpu device\n"
          ]
        }
      ]
    },
    {
      "cell_type": "markdown",
      "source": [
        "### Define your model :"
      ],
      "metadata": {
        "id": "V6VZp4IQ9IpG"
      }
    },
    {
      "cell_type": "markdown",
      "source": [
        "Choose yourself in the model:\n",
        "- number of hidden layers\n",
        "- number of neurons per layer (careful with input = 36 and output = 1, these are not a choice)\n",
        "- activation functions\n",
        "- any other possible component among those seen so far in theory."
      ],
      "metadata": {
        "id": "hnt0qXDZ_29X"
      }
    },
    {
      "cell_type": "code",
      "source": [
        "import torch.nn.functional as F\n",
        "\n",
        "class Model(nn.Module):\n",
        " def __init__(self, input_size, d_1, d_2, output_size):\n",
        "  super(Model, self).__init__()\n",
        "  self.fc1 = nn.Linear(input_size, d_1)\n",
        "  self.fc2 = nn.Linear(d_1, d_2)\n",
        "  self.fc3 = nn.Linear(d_2, output_size)\n",
        "\n",
        " def forward(self, x):\n",
        "  x = self.fc1(x)\n",
        "  x = F.relu(x)\n",
        "  x = self.fc2(x)\n",
        "  x = F.relu(x)\n",
        "  x = self.fc3(x)\n",
        "  return x"
      ],
      "metadata": {
        "execution": {
          "iopub.status.busy": "2023-10-09T10:04:42.309954Z",
          "iopub.execute_input": "2023-10-09T10:04:42.310280Z",
          "iopub.status.idle": "2023-10-09T10:04:42.317352Z",
          "shell.execute_reply.started": "2023-10-09T10:04:42.310252Z",
          "shell.execute_reply": "2023-10-09T10:04:42.316057Z"
        },
        "trusted": true,
        "id": "2x2t4rEtF-1N"
      },
      "execution_count": null,
      "outputs": []
    },
    {
      "cell_type": "markdown",
      "source": [
        "Instantiate your model and print it out"
      ],
      "metadata": {
        "id": "_QhXrIWerKfU"
      }
    },
    {
      "cell_type": "code",
      "source": [
        "input_dim = X.shape[1]"
      ],
      "metadata": {
        "id": "trJHpHIzz9Lb"
      },
      "execution_count": null,
      "outputs": []
    },
    {
      "cell_type": "code",
      "source": [
        "model = Model(input_dim, 18, 9, 1).to(device)\n",
        "print(model)"
      ],
      "metadata": {
        "execution": {
          "iopub.status.busy": "2023-10-09T10:04:49.934535Z",
          "iopub.execute_input": "2023-10-09T10:04:49.934880Z",
          "iopub.status.idle": "2023-10-09T10:04:49.962352Z",
          "shell.execute_reply.started": "2023-10-09T10:04:49.934850Z",
          "shell.execute_reply": "2023-10-09T10:04:49.961502Z"
        },
        "trusted": true,
        "id": "E9ivUgk_F-1N",
        "colab": {
          "base_uri": "https://localhost:8080/"
        },
        "outputId": "d93676b8-12e5-4deb-ad9e-2ca6d275d47e"
      },
      "execution_count": null,
      "outputs": [
        {
          "output_type": "stream",
          "name": "stdout",
          "text": [
            "Model(\n",
            "  (fc1): Linear(in_features=36, out_features=18, bias=True)\n",
            "  (fc2): Linear(in_features=18, out_features=9, bias=True)\n",
            "  (fc3): Linear(in_features=9, out_features=1, bias=True)\n",
            ")\n"
          ]
        }
      ]
    },
    {
      "cell_type": "markdown",
      "source": [
        "### Hyperparameters:"
      ],
      "metadata": {
        "id": "sXCiwbQd_T-2"
      }
    },
    {
      "cell_type": "markdown",
      "source": [
        "Choose carefully your:\n",
        "- learning rate (this is usually the most important hyperparameter to get right, but some optimizers are more forgiving than others)\n",
        "- batch size\n",
        "- number of epochs.\n",
        "- other hyperparameters that you might need"
      ],
      "metadata": {
        "id": "L-1fTWhB_9HB"
      }
    },
    {
      "cell_type": "code",
      "source": [
        "learning_rate = 0.01\n",
        "batch_size=64\n",
        "epochs=100"
      ],
      "metadata": {
        "execution": {
          "iopub.status.busy": "2023-10-09T10:04:57.405999Z",
          "iopub.execute_input": "2023-10-09T10:04:57.406348Z",
          "iopub.status.idle": "2023-10-09T10:04:57.410729Z",
          "shell.execute_reply.started": "2023-10-09T10:04:57.406319Z",
          "shell.execute_reply": "2023-10-09T10:04:57.409643Z"
        },
        "trusted": true,
        "id": "GFumcDhCF-1N"
      },
      "execution_count": null,
      "outputs": []
    },
    {
      "cell_type": "markdown",
      "source": [
        "### Loss function and optimizer:"
      ],
      "metadata": {
        "id": "M9LK0StY_kyS"
      }
    },
    {
      "cell_type": "markdown",
      "source": [
        "- What's the appropriate loss function for the task? [Remember that is a binary classification problem]\n",
        "\n",
        "- Decide which optimizer you want to use ([Documentation](https://pytorch.org/docs/stable/optim.html))"
      ],
      "metadata": {
        "id": "KvHQnWrmABgx"
      }
    },
    {
      "cell_type": "code",
      "source": [
        "loss_fn = nn.BCEWithLogitsLoss()\n",
        "optimizer = optim.SGD(model.parameters(), lr=learning_rate) # One of the most common"
      ],
      "metadata": {
        "execution": {
          "iopub.status.busy": "2023-10-09T10:04:59.179191Z",
          "iopub.execute_input": "2023-10-09T10:04:59.179553Z",
          "iopub.status.idle": "2023-10-09T10:04:59.185130Z",
          "shell.execute_reply.started": "2023-10-09T10:04:59.179521Z",
          "shell.execute_reply": "2023-10-09T10:04:59.183865Z"
        },
        "trusted": true,
        "id": "hFYvvA8GF-1N"
      },
      "execution_count": null,
      "outputs": []
    },
    {
      "cell_type": "markdown",
      "source": [
        "Define your TensorDatasets and DataLoaders; remember to use the appropriate dtype for your tensors."
      ],
      "metadata": {
        "id": "ra1bhn_A_tTj"
      }
    },
    {
      "cell_type": "code",
      "source": [
        "from torch.utils.data import TensorDataset, DataLoader\n",
        "\n",
        "# Convert to NumPy arrays if they are still in Pandas DataFrame/Series format\n",
        "X_train = X_train.values if hasattr(X_train, 'values') else X_train\n",
        "X_valid = X_valid.values if hasattr(X_valid, 'values') else X_valid\n",
        "X_test = X_test.values if hasattr(X_test, 'values') else X_test\n",
        "\n",
        "y_train = y_train.values if hasattr(y_train, 'values') else y_train\n",
        "y_valid = y_valid.values if hasattr(y_valid, 'values') else y_valid\n",
        "y_test = y_test.values if hasattr(y_test, 'values') else y_test\n",
        "\n",
        "# Convert to PyTorch tensors\n",
        "X_train_tensor = torch.tensor(X_train, dtype=torch.float32)\n",
        "y_train_tensor = torch.tensor(y_train, dtype=torch.int64)\n",
        "\n",
        "X_valid_tensor = torch.tensor(X_valid, dtype=torch.float32)\n",
        "y_valid_tensor = torch.tensor(y_valid, dtype=torch.int64)\n",
        "\n",
        "X_test_tensor = torch.tensor(X_test, dtype=torch.float32)\n",
        "y_test_tensor = torch.tensor(y_test, dtype=torch.int64)\n",
        "\n",
        "# Create TensorDatasets\n",
        "train_dataset = TensorDataset(X_train_tensor, y_train_tensor)\n",
        "valid_dataset = TensorDataset(X_valid_tensor, y_valid_tensor)\n",
        "test_dataset = TensorDataset(X_test_tensor, y_test_tensor)\n",
        "\n",
        "train_loader = DataLoader(train_dataset, batch_size=batch_size)\n",
        "validation_loader = DataLoader(valid_dataset, batch_size=len(valid_dataset))\n",
        "test_loader = DataLoader(test_dataset, batch_size=len(test_dataset))"
      ],
      "metadata": {
        "execution": {
          "iopub.status.busy": "2023-10-09T10:12:27.545708Z",
          "iopub.execute_input": "2023-10-09T10:12:27.546392Z",
          "iopub.status.idle": "2023-10-09T10:12:27.555392Z",
          "shell.execute_reply.started": "2023-10-09T10:12:27.546321Z",
          "shell.execute_reply": "2023-10-09T10:12:27.554394Z"
        },
        "trusted": true,
        "id": "LVpU6mGsF-1O"
      },
      "execution_count": null,
      "outputs": []
    },
    {
      "cell_type": "code",
      "source": [
        "# Keep track of training and validation losses during training\n",
        "\n",
        "train_loss_list = []\n",
        "valid_loss_list = []\n",
        "\n",
        "train_length = len(train_loader)\n",
        "valid_length = len(validation_loader)"
      ],
      "metadata": {
        "id": "ceHoIeQst3mA"
      },
      "execution_count": null,
      "outputs": []
    },
    {
      "cell_type": "markdown",
      "source": [
        "# Training"
      ],
      "metadata": {
        "id": "cKeqhHEiOs-6"
      }
    },
    {
      "cell_type": "markdown",
      "source": [
        "Implement your training and evaluation (for the validation set) loops"
      ],
      "metadata": {
        "id": "2KUEZoR_O2ra"
      }
    },
    {
      "cell_type": "code",
      "source": [
        "all_predictions = []\n",
        "all_targets = []\n",
        "\n",
        "for epoch in range(epochs):\n",
        "    for data, target in train_loader:\n",
        "        # Set the model in training mode\n",
        "        model.train()\n",
        "        data, target = data.to(device), target.to(device)\n",
        "        # You have to flatten the data!\n",
        "        data = data.reshape(-1,input_dim)\n",
        "        target = target.unsqueeze(1)\n",
        "        target = target.float()\n",
        "        # Set the gradient to 0\n",
        "        optimizer.zero_grad()\n",
        "        # Make a prediction\n",
        "        output = model(data)\n",
        "        # Compute the loss function\n",
        "        loss = loss_fn(output, target)\n",
        "        # Backpropagation\n",
        "        loss.backward()\n",
        "        # Update parameters\n",
        "        optimizer.step()\n",
        "\n",
        "    train_loss = loss.item()\n",
        "    train_loss_list.append(train_loss)\n",
        "    # At the end of every epoch, check the validation loss value\n",
        "    with torch.no_grad():\n",
        "        model.eval()\n",
        "        for data, target in validation_loader: # Just one batch\n",
        "            data, target = data.to(device), target.to(device)\n",
        "             # You have to flatten the data!\n",
        "            data = data.reshape(-1,input_dim)\n",
        "\n",
        "            # Ensure target has the correct shape for validation: [batch_size, 1]\n",
        "            target = target.unsqueeze(1)  # Reshape target to [batch_size, 1]\n",
        "            target = target.float()  # Ensure target is float\n",
        "\n",
        "            # Make a prediction\n",
        "            output = model(data)\n",
        "            # Compute the loss function\n",
        "            validation_loss = loss_fn(output, target).item()\n",
        "            print(f\"Epoch {epoch + 1}: Train loss: {train_loss}, Validation loss {validation_loss}\")\n",
        "            valid_loss_list.append(validation_loss)\n",
        "\n",
        "            # Apply sigmoid to get probabilities and then convert to binary predictions\n",
        "            #predicted_probs = torch.sigmoid(output)  # Apply sigmoid\n",
        "            #predicted = (predicted_probs > 0.5).float()  # Convert probabilities to binary (0 or 1)\n",
        "\n",
        "            #all_predictions.append(predicted.cpu().numpy())\n",
        "            #all_targets.append(target.unsqueeze(1).cpu().numpy())  # Reshape target and move to CPU\n",
        "\n",
        "# Concatenate all predictions and targets\n",
        "all_predictions = []\n",
        "all_targets = []\n",
        "\n",
        "# Compute the accuracy on the test set\n",
        "with torch.no_grad():\n",
        "    n_correct = 0\n",
        "    n_samples = 0\n",
        "    for data, target in test_loader:\n",
        "        data, target = data.to(device), target.to(device)\n",
        "        # You have to flatten the data!\n",
        "        data = data.reshape(-1,input_dim)\n",
        "        outputs = model(data)\n",
        "\n",
        "        predicted_probs = torch.sigmoid(outputs)\n",
        "\n",
        "        predicted = (predicted_probs > 0.5).float()\n",
        "\n",
        "        # Store predictions and true labels for metrics calculation\n",
        "        all_predictions.extend(predicted.cpu().numpy())  # Add to predictions list\n",
        "        all_targets.extend(target.cpu().numpy())  # Add to true labels list\n",
        "\n",
        "        n_samples += target.size(0)\n",
        "        n_correct += (predicted.view(-1) == target).sum().item()"
      ],
      "metadata": {
        "trusted": true,
        "id": "EqK5jG1NF-1O",
        "colab": {
          "base_uri": "https://localhost:8080/"
        },
        "outputId": "8199d3b7-9f2b-4f1a-9501-c443012096be"
      },
      "execution_count": null,
      "outputs": [
        {
          "output_type": "stream",
          "name": "stdout",
          "text": [
            "Epoch 1: Train loss: 0.12616167962551117, Validation loss 0.09548883140087128\n",
            "Epoch 2: Train loss: 0.1259116381406784, Validation loss 0.09548477828502655\n",
            "Epoch 3: Train loss: 0.12565067410469055, Validation loss 0.09549213200807571\n",
            "Epoch 4: Train loss: 0.12540766596794128, Validation loss 0.09549463540315628\n",
            "Epoch 5: Train loss: 0.12514808773994446, Validation loss 0.09550202637910843\n",
            "Epoch 6: Train loss: 0.12490411847829819, Validation loss 0.09549292922019958\n",
            "Epoch 7: Train loss: 0.12465217709541321, Validation loss 0.09549066424369812\n",
            "Epoch 8: Train loss: 0.12442109733819962, Validation loss 0.09548492729663849\n",
            "Epoch 9: Train loss: 0.12416334450244904, Validation loss 0.09546301513910294\n",
            "Epoch 10: Train loss: 0.12390033900737762, Validation loss 0.09544292837381363\n",
            "Epoch 11: Train loss: 0.1236381009221077, Validation loss 0.09542428702116013\n",
            "Epoch 12: Train loss: 0.12339039146900177, Validation loss 0.09541326016187668\n",
            "Epoch 13: Train loss: 0.12314605712890625, Validation loss 0.09539777040481567\n",
            "Epoch 14: Train loss: 0.12289939820766449, Validation loss 0.09537811577320099\n",
            "Epoch 15: Train loss: 0.12263437360525131, Validation loss 0.09536772221326828\n",
            "Epoch 16: Train loss: 0.12241998314857483, Validation loss 0.09536608308553696\n",
            "Epoch 17: Train loss: 0.1221962720155716, Validation loss 0.09535060822963715\n",
            "Epoch 18: Train loss: 0.1219329833984375, Validation loss 0.09534036368131638\n",
            "Epoch 19: Train loss: 0.12169282883405685, Validation loss 0.09533257782459259\n",
            "Epoch 20: Train loss: 0.12148294597864151, Validation loss 0.09532885998487473\n",
            "Epoch 21: Train loss: 0.12123800814151764, Validation loss 0.09531573206186295\n",
            "Epoch 22: Train loss: 0.12098989635705948, Validation loss 0.09531745314598083\n",
            "Epoch 23: Train loss: 0.1207556501030922, Validation loss 0.09530672430992126\n",
            "Epoch 24: Train loss: 0.12052147090435028, Validation loss 0.095296710729599\n",
            "Epoch 25: Train loss: 0.1202998012304306, Validation loss 0.09530247002840042\n",
            "Epoch 26: Train loss: 0.1200629472732544, Validation loss 0.09528063237667084\n",
            "Epoch 27: Train loss: 0.11981170624494553, Validation loss 0.09528476744890213\n",
            "Epoch 28: Train loss: 0.11957200616598129, Validation loss 0.09528893232345581\n",
            "Epoch 29: Train loss: 0.11935055255889893, Validation loss 0.09528690576553345\n",
            "Epoch 30: Train loss: 0.11910323798656464, Validation loss 0.09529124200344086\n",
            "Epoch 31: Train loss: 0.11888257414102554, Validation loss 0.09529132395982742\n",
            "Epoch 32: Train loss: 0.11863332241773605, Validation loss 0.09528499841690063\n",
            "Epoch 33: Train loss: 0.11835981905460358, Validation loss 0.09527411311864853\n",
            "Epoch 34: Train loss: 0.11814793199300766, Validation loss 0.09527893364429474\n",
            "Epoch 35: Train loss: 0.11785013228654861, Validation loss 0.09526639431715012\n",
            "Epoch 36: Train loss: 0.11761102825403214, Validation loss 0.09525997191667557\n",
            "Epoch 37: Train loss: 0.11734358221292496, Validation loss 0.09525838494300842\n",
            "Epoch 38: Train loss: 0.11709167063236237, Validation loss 0.09524469077587128\n",
            "Epoch 39: Train loss: 0.11683185398578644, Validation loss 0.09525032341480255\n",
            "Epoch 40: Train loss: 0.11660928279161453, Validation loss 0.09523697942495346\n",
            "Epoch 41: Train loss: 0.1163640171289444, Validation loss 0.09523698687553406\n",
            "Epoch 42: Train loss: 0.1161237582564354, Validation loss 0.09522096812725067\n",
            "Epoch 43: Train loss: 0.11586637049913406, Validation loss 0.09521030634641647\n",
            "Epoch 44: Train loss: 0.11565142124891281, Validation loss 0.09519858658313751\n",
            "Epoch 45: Train loss: 0.1154283881187439, Validation loss 0.09519454836845398\n",
            "Epoch 46: Train loss: 0.1151961088180542, Validation loss 0.09518392384052277\n",
            "Epoch 47: Train loss: 0.1149534210562706, Validation loss 0.09516970068216324\n",
            "Epoch 48: Train loss: 0.11474550515413284, Validation loss 0.09515275806188583\n",
            "Epoch 49: Train loss: 0.11456756293773651, Validation loss 0.0951414406299591\n",
            "Epoch 50: Train loss: 0.11432014405727386, Validation loss 0.09513560682535172\n",
            "Epoch 51: Train loss: 0.11411672085523605, Validation loss 0.09512127190828323\n",
            "Epoch 52: Train loss: 0.11394403129816055, Validation loss 0.09512042254209518\n",
            "Epoch 53: Train loss: 0.11370790749788284, Validation loss 0.09510739892721176\n",
            "Epoch 54: Train loss: 0.11351314187049866, Validation loss 0.09510719776153564\n",
            "Epoch 55: Train loss: 0.1133018359541893, Validation loss 0.09509770572185516\n",
            "Epoch 56: Train loss: 0.11307695508003235, Validation loss 0.09508638083934784\n",
            "Epoch 57: Train loss: 0.11287307739257812, Validation loss 0.09507610648870468\n",
            "Epoch 58: Train loss: 0.11270765215158463, Validation loss 0.0950799509882927\n",
            "Epoch 59: Train loss: 0.11245095729827881, Validation loss 0.09506860375404358\n",
            "Epoch 60: Train loss: 0.11224544048309326, Validation loss 0.09507140517234802\n",
            "Epoch 61: Train loss: 0.11205299198627472, Validation loss 0.09506715834140778\n",
            "Epoch 62: Train loss: 0.11185058951377869, Validation loss 0.095049649477005\n",
            "Epoch 63: Train loss: 0.1116221472620964, Validation loss 0.09505205601453781\n",
            "Epoch 64: Train loss: 0.11141197383403778, Validation loss 0.09505321830511093\n",
            "Epoch 65: Train loss: 0.11122512817382812, Validation loss 0.09504906088113785\n",
            "Epoch 66: Train loss: 0.11101768910884857, Validation loss 0.09505168348550797\n",
            "Epoch 67: Train loss: 0.11084006726741791, Validation loss 0.0950508639216423\n",
            "Epoch 68: Train loss: 0.1105969026684761, Validation loss 0.09504927694797516\n",
            "Epoch 69: Train loss: 0.11038342863321304, Validation loss 0.0950363352894783\n",
            "Epoch 70: Train loss: 0.11020877957344055, Validation loss 0.09504316747188568\n",
            "Epoch 71: Train loss: 0.1100071370601654, Validation loss 0.09503432363271713\n",
            "Epoch 72: Train loss: 0.10976827889680862, Validation loss 0.09502746909856796\n",
            "Epoch 73: Train loss: 0.10959600657224655, Validation loss 0.09503879398107529\n",
            "Epoch 74: Train loss: 0.1093931719660759, Validation loss 0.09502818435430527\n",
            "Epoch 75: Train loss: 0.10917976498603821, Validation loss 0.09501594305038452\n",
            "Epoch 76: Train loss: 0.10898587852716446, Validation loss 0.09501823782920837\n",
            "Epoch 77: Train loss: 0.10880395770072937, Validation loss 0.09502445161342621\n",
            "Epoch 78: Train loss: 0.10860338062047958, Validation loss 0.09502474218606949\n",
            "Epoch 79: Train loss: 0.10839921981096268, Validation loss 0.0950206071138382\n",
            "Epoch 80: Train loss: 0.10817567259073257, Validation loss 0.09500712156295776\n",
            "Epoch 81: Train loss: 0.10797812044620514, Validation loss 0.09500507265329361\n",
            "Epoch 82: Train loss: 0.10780033469200134, Validation loss 0.09500730782747269\n",
            "Epoch 83: Train loss: 0.10759454220533371, Validation loss 0.0949992835521698\n",
            "Epoch 84: Train loss: 0.10739170014858246, Validation loss 0.09500645101070404\n",
            "Epoch 85: Train loss: 0.10719572007656097, Validation loss 0.09500604122877121\n",
            "Epoch 86: Train loss: 0.1070065125823021, Validation loss 0.09500230848789215\n",
            "Epoch 87: Train loss: 0.10681045055389404, Validation loss 0.09499998390674591\n",
            "Epoch 88: Train loss: 0.10662509500980377, Validation loss 0.09499451518058777\n",
            "Epoch 89: Train loss: 0.10644645988941193, Validation loss 0.09500577300786972\n",
            "Epoch 90: Train loss: 0.10625334084033966, Validation loss 0.09500584751367569\n",
            "Epoch 91: Train loss: 0.10606680065393448, Validation loss 0.09500568360090256\n",
            "Epoch 92: Train loss: 0.10597158223390579, Validation loss 0.09504202008247375\n",
            "Epoch 93: Train loss: 0.10586775094270706, Validation loss 0.09506681561470032\n",
            "Epoch 94: Train loss: 0.10573028028011322, Validation loss 0.09509448707103729\n",
            "Epoch 95: Train loss: 0.10557714849710464, Validation loss 0.09510144591331482\n",
            "Epoch 96: Train loss: 0.1054210290312767, Validation loss 0.09511582553386688\n",
            "Epoch 97: Train loss: 0.10524880886077881, Validation loss 0.09512131661176682\n",
            "Epoch 98: Train loss: 0.10507737845182419, Validation loss 0.09512936323881149\n",
            "Epoch 99: Train loss: 0.1049327626824379, Validation loss 0.095142662525177\n",
            "Epoch 100: Train loss: 0.10474977642297745, Validation loss 0.09515277296304703\n"
          ]
        }
      ]
    },
    {
      "cell_type": "markdown",
      "source": [
        "# Results"
      ],
      "metadata": {
        "id": "w2u6ELJpF-1O"
      }
    },
    {
      "cell_type": "markdown",
      "source": [
        "### Plotting"
      ],
      "metadata": {
        "id": "lTAGxV5bMA4b"
      }
    },
    {
      "cell_type": "markdown",
      "source": [
        "Plot out the training and validation losses over the epochs"
      ],
      "metadata": {
        "id": "E5KnF__4LrGK"
      }
    },
    {
      "cell_type": "code",
      "source": [
        "plt.plot(range(epochs), train_loss_list, label='train')\n",
        "plt.plot(range(epochs), valid_loss_list, label='valid')\n",
        "plt.legend(loc=\"best\")\n",
        "plt.show()"
      ],
      "metadata": {
        "id": "t5ytQiecNIOC",
        "colab": {
          "base_uri": "https://localhost:8080/",
          "height": 430
        },
        "outputId": "f4a9d751-1980-40d5-b514-cda10874c3f5"
      },
      "execution_count": null,
      "outputs": [
        {
          "output_type": "display_data",
          "data": {
            "text/plain": [
              "<Figure size 640x480 with 1 Axes>"
            ],
            "image/png": "[encoded data removed]"
          },
          "metadata": {}
        }
      ]
    },
    {
      "cell_type": "markdown",
      "source": [
        "### Metrics"
      ],
      "metadata": {
        "id": "fPs9CwgJMLDq"
      }
    },
    {
      "cell_type": "markdown",
      "source": [
        "Print out appropriate metrics for the task"
      ],
      "metadata": {
        "id": "kAHRX5PgMOoZ"
      }
    },
    {
      "cell_type": "code",
      "source": [
        "from sklearn.metrics import accuracy_score, confusion_matrix, fbeta_score, classification_report\n",
        "\n",
        "# Flatten the targets for accuracy score and confusion matrix\n",
        "#all_targets_flat = all_targets.flatten()\n",
        "#all_predictions_flat = all_predictions.flatten()\n",
        "\n",
        "# Compute accuracy\n",
        "accuracy = accuracy_score(all_targets, all_predictions)\n",
        "print(f\"Accuracy: {accuracy:.4f}\")\n",
        "\n",
        "# Compute confusion matrix\n",
        "conf_matrix = confusion_matrix(all_targets, all_predictions)\n",
        "print(\"Confusion Matrix:\")\n",
        "print(conf_matrix)\n",
        "\n",
        "# Compute F-beta score (with beta=2)\n",
        "fbeta = fbeta_score(all_targets, all_predictions, beta=2)\n",
        "print(f\"F-beta Score (beta=2): {fbeta:.4f}\")\n",
        "\n",
        "# Print classification report\n",
        "class_report = classification_report(all_targets, all_predictions)\n",
        "print(\"Classification Report:\")\n",
        "print(class_report)"
      ],
      "metadata": {
        "id": "0K48qnVJ0b3s",
        "colab": {
          "base_uri": "https://localhost:8080/"
        },
        "outputId": "c79d0f4d-96c3-4943-b6e4-59cf51e99096"
      },
      "execution_count": null,
      "outputs": [
        {
          "output_type": "stream",
          "name": "stdout",
          "text": [
            "Accuracy: 0.9561\n",
            "Confusion Matrix:\n",
            "[[181   4]\n",
            " [  5  15]]\n",
            "F-beta Score (beta=2): 0.7576\n",
            "Classification Report:\n",
            "              precision    recall  f1-score   support\n",
            "\n",
            "           0       0.97      0.98      0.98       185\n",
            "           1       0.79      0.75      0.77        20\n",
            "\n",
            "    accuracy                           0.96       205\n",
            "   macro avg       0.88      0.86      0.87       205\n",
            "weighted avg       0.96      0.96      0.96       205\n",
            "\n"
          ]
        }
      ]
    },
    {
      "cell_type": "code",
      "source": [
        "wrong_predictions = # OPTIONAL TODO"
      ],
      "metadata": {
        "id": "tc8Ffd5nC5cM",
        "colab": {
          "base_uri": "https://localhost:8080/",
          "height": 106
        },
        "outputId": "29c7dbc4-863b-4ed8-9bb4-c2cf522afa33"
      },
      "execution_count": null,
      "outputs": [
        {
          "output_type": "error",
          "ename": "SyntaxError",
          "evalue": "invalid syntax (<ipython-input-30-e2809f8ba91c>, line 1)",
          "traceback": [
            "\u001b[0;36m  File \u001b[0;32m\"<ipython-input-30-e2809f8ba91c>\"\u001b[0;36m, line \u001b[0;32m1\u001b[0m\n\u001b[0;31m    wrong_predictions = # OPTIONAL TODO\u001b[0m\n\u001b[0m                        ^\u001b[0m\n\u001b[0;31mSyntaxError\u001b[0m\u001b[0;31m:\u001b[0m invalid syntax\n"
          ]
        }
      ]
    },
    {
      "cell_type": "markdown",
      "source": [
        "  Did you manage to catch them all?"
      ],
      "metadata": {
        "id": "3VpmU6TtKVYy"
      }
    },
    {
      "cell_type": "markdown",
      "source": [
        "______________________________________________________________________________\n",
        "\n",
        "This notebook is largely inspired (with some improvements and updates) by a video featured on [Data Every Day](https://www.youtube.com/watch?v=3Fr1npNxkJk)."
      ],
      "metadata": {
        "id": "_gt2ycYdqGk-"
      }
    }
  ]
}